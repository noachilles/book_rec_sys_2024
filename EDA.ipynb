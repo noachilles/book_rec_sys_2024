{
 "cells": [
  {
   "cell_type": "markdown",
   "metadata": {},
   "source": [
    "### 영화 정보 불러오기"
   ]
  },
  {
   "cell_type": "code",
   "execution_count": 2,
   "metadata": {},
   "outputs": [
    {
     "name": "stdout",
     "output_type": "stream",
     "text": [
      "   movie_id                               title  \\\n",
      "0         1                    Toy Story (1995)   \n",
      "1         2                      Jumanji (1995)   \n",
      "2         3             Grumpier Old Men (1995)   \n",
      "3         4            Waiting to Exhale (1995)   \n",
      "4         5  Father of the Bride Part II (1995)   \n",
      "\n",
      "                                               genre  \n",
      "0  [Adventure, Animation, Children, Comedy, Fantasy]  \n",
      "1                     [Adventure, Children, Fantasy]  \n",
      "2                                  [Comedy, Romance]  \n",
      "3                           [Comedy, Drama, Romance]  \n",
      "4                                           [Comedy]  \n"
     ]
    }
   ],
   "source": [
    "import pandas as pd\n",
    "# 영화 정보 로딩(10681)\n",
    "# movieID와 제목만 사용\n",
    "m_cols = ['movie_id', 'title', 'genre']\n",
    "# dat 파일 형식이 어떤 건지 모르겠네(csv 같은 느낌인가?)\n",
    "movies = pd.read_csv('data/ml-10m/movies.dat', names=m_cols, sep='::', encoding='latin-1', engine='python')  \n",
    "# read movies.dat and adjust the cols name as m_cols. \n",
    "\n",
    "# genre를 list 형식으로 저장한다.\n",
    "# 와 진심 처음 보는 형태의 코드...\n",
    "movies['genre'] = movies.genre.apply(lambda x:x.split('|'))\n",
    "print(movies.head())"
   ]
  },
  {
   "cell_type": "code",
   "execution_count": 3,
   "metadata": {},
   "outputs": [
    {
     "data": {
      "text/plain": [
       "(10681, 3)"
      ]
     },
     "execution_count": 3,
     "metadata": {},
     "output_type": "execute_result"
    }
   ],
   "source": [
    "movies.shape"
   ]
  },
  {
   "cell_type": "code",
   "execution_count": 4,
   "metadata": {},
   "outputs": [
    {
     "name": "stdout",
     "output_type": "stream",
     "text": [
      "------------na check----------\n",
      "movie_id    0\n",
      "title       0\n",
      "genre       0\n",
      "dtype: int64\n",
      "------------dtypes----------\n",
      "movie_id     int64\n",
      "title       object\n",
      "genre       object\n",
      "dtype: object\n",
      "------------genre----------\n",
      "<bound method Series.unique of 0        [Adventure, Animation, Children, Comedy, Fantasy]\n",
      "1                           [Adventure, Children, Fantasy]\n",
      "2                                        [Comedy, Romance]\n",
      "3                                 [Comedy, Drama, Romance]\n",
      "4                                                 [Comedy]\n",
      "                               ...                        \n",
      "10676                        [Adventure, Children, Comedy]\n",
      "10677                              [Crime, Drama, Romance]\n",
      "10678                                      [Comedy, Drama]\n",
      "10679                                     [Drama, Romance]\n",
      "10680                                             [Comedy]\n",
      "Name: genre, Length: 10681, dtype: object>\n"
     ]
    }
   ],
   "source": [
    "print('------------na check----------')\n",
    "print(movies.isna().sum())\n",
    "print('------------dtypes----------')\n",
    "print(movies.dtypes)\n",
    "print('------------genre----------')\n",
    "print(movies['genre'].unique)"
   ]
  },
  {
   "cell_type": "markdown",
   "metadata": {},
   "source": [
    "### 태그 정보 불러오기"
   ]
  },
  {
   "cell_type": "code",
   "execution_count": 5,
   "metadata": {},
   "outputs": [
    {
     "data": {
      "text/plain": [
       "<bound method NDFrame.head of        user_id  movie_id              tag   timestamp\n",
       "0           15      4973       excellent!  1215184630\n",
       "1           20      1747         politics  1188263867\n",
       "2           20      1747           satire  1188263867\n",
       "3           20      2424  chick flick 212  1188263835\n",
       "4           20      2424            hanks  1188263835\n",
       "...        ...       ...              ...         ...\n",
       "95575    71556      1377           gothic  1188263571\n",
       "95576    71556      2424      chick flick  1188263606\n",
       "95577    71556      3033           comedy  1188263626\n",
       "95578    71556      3081           gothic  1188263565\n",
       "95579    71556      7438          western  1188263589\n",
       "\n",
       "[95580 rows x 4 columns]>"
      ]
     },
     "execution_count": 5,
     "metadata": {},
     "output_type": "execute_result"
    }
   ],
   "source": [
    "# 사용자가 부여한 영화의 태그 정보 로딩\n",
    "t_cols = ['user_id', 'movie_id', 'tag', 'timestamp']\n",
    "user_tagged_movies = pd.read_csv('data/ml-10m/tags.dat', names=t_cols, sep='::', engine='python')\n",
    "\n",
    "# tag를 소문자로 바꾼다.\n",
    "user_tagged_movies['tag'] = user_tagged_movies['tag'].str.lower()\n",
    "\n",
    "user_tagged_movies.head"
   ]
  },
  {
   "cell_type": "code",
   "execution_count": 6,
   "metadata": {},
   "outputs": [
    {
     "name": "stdout",
     "output_type": "stream",
     "text": [
      "태그 종류=15241\n",
      "태그 레코드 수=95580\n",
      "태그가 붙어 있는 영화 수=7601\n"
     ]
    }
   ],
   "source": [
    "print(f'태그 종류={len(user_tagged_movies.tag.unique())}') # 태그 종류=15241\n",
    "print(f'태그 레코드 수={len(user_tagged_movies)}') # 태그 레코드 수=95580\n",
    "print(f'태그가 붙어 있는 영화 수={len(user_tagged_movies.movie_id.unique())}') # 태그가 붙어 있는 영화 수=7601"
   ]
  },
  {
   "cell_type": "code",
   "execution_count": 7,
   "metadata": {},
   "outputs": [
    {
     "data": {
      "text/html": [
       "<div>\n",
       "<style scoped>\n",
       "    .dataframe tbody tr th:only-of-type {\n",
       "        vertical-align: middle;\n",
       "    }\n",
       "\n",
       "    .dataframe tbody tr th {\n",
       "        vertical-align: top;\n",
       "    }\n",
       "\n",
       "    .dataframe thead th {\n",
       "        text-align: right;\n",
       "    }\n",
       "</style>\n",
       "<table border=\"1\" class=\"dataframe\">\n",
       "  <thead>\n",
       "    <tr style=\"text-align: right;\">\n",
       "      <th></th>\n",
       "      <th>movie_id</th>\n",
       "      <th>title</th>\n",
       "      <th>genre</th>\n",
       "      <th>tag</th>\n",
       "    </tr>\n",
       "  </thead>\n",
       "  <tbody>\n",
       "    <tr>\n",
       "      <th>0</th>\n",
       "      <td>1</td>\n",
       "      <td>Toy Story (1995)</td>\n",
       "      <td>[Adventure, Animation, Children, Comedy, Fantasy]</td>\n",
       "      <td>[pixar, pixar, pixar, animation, pixar, animat...</td>\n",
       "    </tr>\n",
       "    <tr>\n",
       "      <th>1</th>\n",
       "      <td>2</td>\n",
       "      <td>Jumanji (1995)</td>\n",
       "      <td>[Adventure, Children, Fantasy]</td>\n",
       "      <td>[for children, game, animals, joe johnston, ro...</td>\n",
       "    </tr>\n",
       "    <tr>\n",
       "      <th>2</th>\n",
       "      <td>3</td>\n",
       "      <td>Grumpier Old Men (1995)</td>\n",
       "      <td>[Comedy, Romance]</td>\n",
       "      <td>[funniest movies, comedinha de velhinhos engra...</td>\n",
       "    </tr>\n",
       "    <tr>\n",
       "      <th>3</th>\n",
       "      <td>4</td>\n",
       "      <td>Waiting to Exhale (1995)</td>\n",
       "      <td>[Comedy, Drama, Romance]</td>\n",
       "      <td>[girl movie]</td>\n",
       "    </tr>\n",
       "    <tr>\n",
       "      <th>4</th>\n",
       "      <td>5</td>\n",
       "      <td>Father of the Bride Part II (1995)</td>\n",
       "      <td>[Comedy]</td>\n",
       "      <td>[steve martin, pregnancy, remake, steve martin...</td>\n",
       "    </tr>\n",
       "  </tbody>\n",
       "</table>\n",
       "</div>"
      ],
      "text/plain": [
       "   movie_id                               title  \\\n",
       "0         1                    Toy Story (1995)   \n",
       "1         2                      Jumanji (1995)   \n",
       "2         3             Grumpier Old Men (1995)   \n",
       "3         4            Waiting to Exhale (1995)   \n",
       "4         5  Father of the Bride Part II (1995)   \n",
       "\n",
       "                                               genre  \\\n",
       "0  [Adventure, Animation, Children, Comedy, Fantasy]   \n",
       "1                     [Adventure, Children, Fantasy]   \n",
       "2                                  [Comedy, Romance]   \n",
       "3                           [Comedy, Drama, Romance]   \n",
       "4                                           [Comedy]   \n",
       "\n",
       "                                                 tag  \n",
       "0  [pixar, pixar, pixar, animation, pixar, animat...  \n",
       "1  [for children, game, animals, joe johnston, ro...  \n",
       "2  [funniest movies, comedinha de velhinhos engra...  \n",
       "3                                       [girl movie]  \n",
       "4  [steve martin, pregnancy, remake, steve martin...  "
      ]
     },
     "execution_count": 7,
     "metadata": {},
     "output_type": "execute_result"
    }
   ],
   "source": [
    "# tag를 영화별로 list 형식으로 저장한다.\n",
    "movie_tags = user_tagged_movies.groupby('movie_id').agg({'tag':list})\n",
    "\n",
    "# 태그 정보를 결합한다.\n",
    "movies = movies.merge(movie_tags, on='movie_id', how='left')\n",
    "\n",
    "movies.head()"
   ]
  },
  {
   "cell_type": "markdown",
   "metadata": {},
   "source": [
    "### 평갓값 데이터"
   ]
  },
  {
   "cell_type": "markdown",
   "metadata": {},
   "source": [
    "평갓값 데이터 수가 1,000만 건에 이르므로 데이터를 사용해 실험하면 알고리즘에 따라 결과를 얻기까지 며칠이 걸리기도 한다.  \n",
    "평갓값은 0.5~5.0 사이 0.5 간격으로 표시된다."
   ]
  },
  {
   "cell_type": "code",
   "execution_count": 8,
   "metadata": {},
   "outputs": [
    {
     "data": {
      "text/html": [
       "<div>\n",
       "<style scoped>\n",
       "    .dataframe tbody tr th:only-of-type {\n",
       "        vertical-align: middle;\n",
       "    }\n",
       "\n",
       "    .dataframe tbody tr th {\n",
       "        vertical-align: top;\n",
       "    }\n",
       "\n",
       "    .dataframe thead th {\n",
       "        text-align: right;\n",
       "    }\n",
       "</style>\n",
       "<table border=\"1\" class=\"dataframe\">\n",
       "  <thead>\n",
       "    <tr style=\"text-align: right;\">\n",
       "      <th></th>\n",
       "      <th>user_id</th>\n",
       "      <th>movie_id</th>\n",
       "      <th>rating</th>\n",
       "      <th>timestamp</th>\n",
       "    </tr>\n",
       "  </thead>\n",
       "  <tbody>\n",
       "    <tr>\n",
       "      <th>0</th>\n",
       "      <td>1</td>\n",
       "      <td>122</td>\n",
       "      <td>5.0</td>\n",
       "      <td>838985046</td>\n",
       "    </tr>\n",
       "    <tr>\n",
       "      <th>1</th>\n",
       "      <td>1</td>\n",
       "      <td>185</td>\n",
       "      <td>5.0</td>\n",
       "      <td>838983525</td>\n",
       "    </tr>\n",
       "    <tr>\n",
       "      <th>2</th>\n",
       "      <td>1</td>\n",
       "      <td>231</td>\n",
       "      <td>5.0</td>\n",
       "      <td>838983392</td>\n",
       "    </tr>\n",
       "    <tr>\n",
       "      <th>3</th>\n",
       "      <td>1</td>\n",
       "      <td>292</td>\n",
       "      <td>5.0</td>\n",
       "      <td>838983421</td>\n",
       "    </tr>\n",
       "    <tr>\n",
       "      <th>4</th>\n",
       "      <td>1</td>\n",
       "      <td>316</td>\n",
       "      <td>5.0</td>\n",
       "      <td>838983392</td>\n",
       "    </tr>\n",
       "  </tbody>\n",
       "</table>\n",
       "</div>"
      ],
      "text/plain": [
       "   user_id  movie_id  rating  timestamp\n",
       "0        1       122     5.0  838985046\n",
       "1        1       185     5.0  838983525\n",
       "2        1       231     5.0  838983392\n",
       "3        1       292     5.0  838983421\n",
       "4        1       316     5.0  838983392"
      ]
     },
     "execution_count": 8,
     "metadata": {},
     "output_type": "execute_result"
    }
   ],
   "source": [
    "# 평갓값 데이터 로딩(데이터양이 많으므로 환경에 따라 로딩에 시간이 걸린다.)\n",
    "r_cols = ['user_id', 'movie_id', 'rating', 'timestamp']\n",
    "ratings = pd.read_csv('data/ml-10m/ratings.dat', names=r_cols, sep='::', engine='python')\n",
    "ratings.head()"
   ]
  },
  {
   "cell_type": "markdown",
   "metadata": {},
   "source": [
    "따라서 실무에서는 데이터를 샘플링 해 작은 데이터셋으로 빠르게 실험을 반복하고 좋은 결과를 내는 알고리즘에 한해 데이터를 늘려 시험한다."
   ]
  },
  {
   "cell_type": "markdown",
   "metadata": {},
   "source": [
    "**사용자 수 1,000명의 평갓값 통계 정보**"
   ]
  },
  {
   "cell_type": "code",
   "execution_count": 9,
   "metadata": {},
   "outputs": [
    {
     "data": {
      "text/html": [
       "<div>\n",
       "<style scoped>\n",
       "    .dataframe tbody tr th:only-of-type {\n",
       "        vertical-align: middle;\n",
       "    }\n",
       "\n",
       "    .dataframe tbody tr th {\n",
       "        vertical-align: top;\n",
       "    }\n",
       "\n",
       "    .dataframe thead th {\n",
       "        text-align: right;\n",
       "    }\n",
       "</style>\n",
       "<table border=\"1\" class=\"dataframe\">\n",
       "  <thead>\n",
       "    <tr style=\"text-align: right;\">\n",
       "      <th></th>\n",
       "      <th>user_id</th>\n",
       "      <th>movie_id</th>\n",
       "      <th>rating</th>\n",
       "      <th>timestamp</th>\n",
       "      <th>title</th>\n",
       "      <th>genre</th>\n",
       "      <th>tag</th>\n",
       "    </tr>\n",
       "  </thead>\n",
       "  <tbody>\n",
       "    <tr>\n",
       "      <th>0</th>\n",
       "      <td>1</td>\n",
       "      <td>122</td>\n",
       "      <td>5.0</td>\n",
       "      <td>838985046</td>\n",
       "      <td>Boomerang (1992)</td>\n",
       "      <td>[Comedy, Romance]</td>\n",
       "      <td>[dating, nudity (topless - brief), can't remem...</td>\n",
       "    </tr>\n",
       "    <tr>\n",
       "      <th>1</th>\n",
       "      <td>1</td>\n",
       "      <td>185</td>\n",
       "      <td>5.0</td>\n",
       "      <td>838983525</td>\n",
       "      <td>Net, The (1995)</td>\n",
       "      <td>[Action, Crime, Thriller]</td>\n",
       "      <td>[computers, computers, internet, irwin winkler...</td>\n",
       "    </tr>\n",
       "    <tr>\n",
       "      <th>2</th>\n",
       "      <td>1</td>\n",
       "      <td>231</td>\n",
       "      <td>5.0</td>\n",
       "      <td>838983392</td>\n",
       "      <td>Dumb &amp; Dumber (1994)</td>\n",
       "      <td>[Comedy]</td>\n",
       "      <td>[jeff daniels, jim carrey, stupid, jim carrey,...</td>\n",
       "    </tr>\n",
       "    <tr>\n",
       "      <th>3</th>\n",
       "      <td>1</td>\n",
       "      <td>292</td>\n",
       "      <td>5.0</td>\n",
       "      <td>838983421</td>\n",
       "      <td>Outbreak (1995)</td>\n",
       "      <td>[Action, Drama, Sci-Fi, Thriller]</td>\n",
       "      <td>[biology, gross, disease, futuristmovies.com, ...</td>\n",
       "    </tr>\n",
       "    <tr>\n",
       "      <th>4</th>\n",
       "      <td>1</td>\n",
       "      <td>316</td>\n",
       "      <td>5.0</td>\n",
       "      <td>838983392</td>\n",
       "      <td>Stargate (1994)</td>\n",
       "      <td>[Action, Adventure, Sci-Fi]</td>\n",
       "      <td>[egypt, space, time travel, time travel, alien...</td>\n",
       "    </tr>\n",
       "  </tbody>\n",
       "</table>\n",
       "</div>"
      ],
      "text/plain": [
       "   user_id  movie_id  rating  timestamp                 title  \\\n",
       "0        1       122     5.0  838985046      Boomerang (1992)   \n",
       "1        1       185     5.0  838983525       Net, The (1995)   \n",
       "2        1       231     5.0  838983392  Dumb & Dumber (1994)   \n",
       "3        1       292     5.0  838983421       Outbreak (1995)   \n",
       "4        1       316     5.0  838983392       Stargate (1994)   \n",
       "\n",
       "                               genre  \\\n",
       "0                  [Comedy, Romance]   \n",
       "1          [Action, Crime, Thriller]   \n",
       "2                           [Comedy]   \n",
       "3  [Action, Drama, Sci-Fi, Thriller]   \n",
       "4        [Action, Adventure, Sci-Fi]   \n",
       "\n",
       "                                                 tag  \n",
       "0  [dating, nudity (topless - brief), can't remem...  \n",
       "1  [computers, computers, internet, irwin winkler...  \n",
       "2  [jeff daniels, jim carrey, stupid, jim carrey,...  \n",
       "3  [biology, gross, disease, futuristmovies.com, ...  \n",
       "4  [egypt, space, time travel, time travel, alien...  "
      ]
     },
     "execution_count": 9,
     "metadata": {},
     "output_type": "execute_result"
    }
   ],
   "source": [
    "# 데이터 양이 많으므로 사용자 수를 1000명으로 줄여 실험\n",
    "valid_user_ids = sorted(ratings.user_id.unique())[:1000]\n",
    "ratings = ratings[ratings[\"user_id\"].isin(valid_user_ids)]\n",
    "\n",
    "# 영화 데이터와 평가 데이터를 결합한다.\n",
    "movielens = ratings.merge(movies, on=\"movie_id\")\n",
    "movielens.head()"
   ]
  },
  {
   "cell_type": "code",
   "execution_count": 10,
   "metadata": {},
   "outputs": [
    {
     "name": "stderr",
     "output_type": "stream",
     "text": [
      "C:\\Users\\eunjo\\AppData\\Local\\Temp\\ipykernel_23484\\500867367.py:2: FutureWarning: The provided callable <built-in function min> is currently using Series.min. In a future version of pandas, the provided callable will be used directly. To keep current behavior pass the string \"min\" instead.\n",
      "  movielens.groupby('user_id').agg({'movie_id' : len}).agg({'movie_id':[min, max, np.mean, len]})\n",
      "C:\\Users\\eunjo\\AppData\\Local\\Temp\\ipykernel_23484\\500867367.py:2: FutureWarning: The provided callable <built-in function max> is currently using Series.max. In a future version of pandas, the provided callable will be used directly. To keep current behavior pass the string \"max\" instead.\n",
      "  movielens.groupby('user_id').agg({'movie_id' : len}).agg({'movie_id':[min, max, np.mean, len]})\n",
      "C:\\Users\\eunjo\\AppData\\Local\\Temp\\ipykernel_23484\\500867367.py:2: FutureWarning: The provided callable <function mean at 0x000001C5E25956C0> is currently using Series.mean. In a future version of pandas, the provided callable will be used directly. To keep current behavior pass the string \"mean\" instead.\n",
      "  movielens.groupby('user_id').agg({'movie_id' : len}).agg({'movie_id':[min, max, np.mean, len]})\n"
     ]
    },
    {
     "data": {
      "text/html": [
       "<div>\n",
       "<style scoped>\n",
       "    .dataframe tbody tr th:only-of-type {\n",
       "        vertical-align: middle;\n",
       "    }\n",
       "\n",
       "    .dataframe tbody tr th {\n",
       "        vertical-align: top;\n",
       "    }\n",
       "\n",
       "    .dataframe thead th {\n",
       "        text-align: right;\n",
       "    }\n",
       "</style>\n",
       "<table border=\"1\" class=\"dataframe\">\n",
       "  <thead>\n",
       "    <tr style=\"text-align: right;\">\n",
       "      <th></th>\n",
       "      <th>movie_id</th>\n",
       "    </tr>\n",
       "  </thead>\n",
       "  <tbody>\n",
       "    <tr>\n",
       "      <th>min</th>\n",
       "      <td>20.00</td>\n",
       "    </tr>\n",
       "    <tr>\n",
       "      <th>max</th>\n",
       "      <td>1668.00</td>\n",
       "    </tr>\n",
       "    <tr>\n",
       "      <th>mean</th>\n",
       "      <td>132.83</td>\n",
       "    </tr>\n",
       "    <tr>\n",
       "      <th>len</th>\n",
       "      <td>1000.00</td>\n",
       "    </tr>\n",
       "  </tbody>\n",
       "</table>\n",
       "</div>"
      ],
      "text/plain": [
       "      movie_id\n",
       "min      20.00\n",
       "max    1668.00\n",
       "mean    132.83\n",
       "len    1000.00"
      ]
     },
     "execution_count": 10,
     "metadata": {},
     "output_type": "execute_result"
    }
   ],
   "source": [
    "import numpy as np\n",
    "movielens.groupby('user_id').agg({'movie_id' : len}).agg({'movie_id':[min, max, np.mean, len]})"
   ]
  },
  {
   "cell_type": "markdown",
   "metadata": {},
   "source": [
    "**평가된 영화에 대한 결과**"
   ]
  },
  {
   "cell_type": "code",
   "execution_count": 11,
   "metadata": {},
   "outputs": [
    {
     "name": "stderr",
     "output_type": "stream",
     "text": [
      "C:\\Users\\eunjo\\AppData\\Local\\Temp\\ipykernel_23484\\2297131014.py:1: FutureWarning: The provided callable <built-in function min> is currently using Series.min. In a future version of pandas, the provided callable will be used directly. To keep current behavior pass the string \"min\" instead.\n",
      "  movielens.groupby('movie_id').agg({'user_id':len}).agg({'user_id':[min, max, np.mean, len]})\n",
      "C:\\Users\\eunjo\\AppData\\Local\\Temp\\ipykernel_23484\\2297131014.py:1: FutureWarning: The provided callable <built-in function max> is currently using Series.max. In a future version of pandas, the provided callable will be used directly. To keep current behavior pass the string \"max\" instead.\n",
      "  movielens.groupby('movie_id').agg({'user_id':len}).agg({'user_id':[min, max, np.mean, len]})\n",
      "C:\\Users\\eunjo\\AppData\\Local\\Temp\\ipykernel_23484\\2297131014.py:1: FutureWarning: The provided callable <function mean at 0x000001C5E25956C0> is currently using Series.mean. In a future version of pandas, the provided callable will be used directly. To keep current behavior pass the string \"mean\" instead.\n",
      "  movielens.groupby('movie_id').agg({'user_id':len}).agg({'user_id':[min, max, np.mean, len]})\n"
     ]
    },
    {
     "data": {
      "text/html": [
       "<div>\n",
       "<style scoped>\n",
       "    .dataframe tbody tr th:only-of-type {\n",
       "        vertical-align: middle;\n",
       "    }\n",
       "\n",
       "    .dataframe tbody tr th {\n",
       "        vertical-align: top;\n",
       "    }\n",
       "\n",
       "    .dataframe thead th {\n",
       "        text-align: right;\n",
       "    }\n",
       "</style>\n",
       "<table border=\"1\" class=\"dataframe\">\n",
       "  <thead>\n",
       "    <tr style=\"text-align: right;\">\n",
       "      <th></th>\n",
       "      <th>user_id</th>\n",
       "    </tr>\n",
       "  </thead>\n",
       "  <tbody>\n",
       "    <tr>\n",
       "      <th>min</th>\n",
       "      <td>1.000000</td>\n",
       "    </tr>\n",
       "    <tr>\n",
       "      <th>max</th>\n",
       "      <td>496.000000</td>\n",
       "    </tr>\n",
       "    <tr>\n",
       "      <th>mean</th>\n",
       "      <td>19.719418</td>\n",
       "    </tr>\n",
       "    <tr>\n",
       "      <th>len</th>\n",
       "      <td>6736.000000</td>\n",
       "    </tr>\n",
       "  </tbody>\n",
       "</table>\n",
       "</div>"
      ],
      "text/plain": [
       "          user_id\n",
       "min      1.000000\n",
       "max    496.000000\n",
       "mean    19.719418\n",
       "len   6736.000000"
      ]
     },
     "execution_count": 11,
     "metadata": {},
     "output_type": "execute_result"
    }
   ],
   "source": [
    "movielens.groupby('movie_id').agg({'user_id':len}).agg({'user_id':[min, max, np.mean, len]})"
   ]
  },
  {
   "cell_type": "code",
   "execution_count": 12,
   "metadata": {},
   "outputs": [
    {
     "name": "stdout",
     "output_type": "stream",
     "text": [
      "평갓값 수=132830\n",
      "        movie_id\n",
      "rating          \n",
      "0.5          851\n",
      "1.0         4847\n",
      "1.5         1247\n",
      "2.0        10292\n",
      "2.5         3729\n",
      "3.0        31706\n",
      "3.5         9661\n",
      "4.0        39917\n",
      "4.5         6949\n",
      "5.0        23631\n"
     ]
    },
    {
     "data": {
      "text/plain": [
       "<Axes: xlabel='rating'>"
      ]
     },
     "execution_count": 12,
     "metadata": {},
     "output_type": "execute_result"
    },
    {
     "data": {
      "image/png": "[encoded data removed]",
      "text/plain": [
       "<Figure size 640x480 with 1 Axes>"
      ]
     },
     "metadata": {},
     "output_type": "display_data"
    }
   ],
   "source": [
    "print(f'평갓값 수={len(movielens)}')\n",
    "tmp = movielens.groupby('rating').agg({'movie_id':len})\n",
    "print(tmp)\n",
    "tmp.plot.bar()"
   ]
  },
  {
   "cell_type": "markdown",
   "metadata": {},
   "source": [
    "### 평가 방법\n",
    "MovieLens dataset에서 사용자는 적어도 20편 이상의 영화를 평가했음  \n",
    "그래서 사용자가 최근 평가한 5개의 영화 평갓값: 테스트용 / 나머지: 학습용"
   ]
  },
  {
   "cell_type": "code",
   "execution_count": 19,
   "metadata": {},
   "outputs": [],
   "source": [
    "# 학습용과 테스트용으로 데이터 분할\n",
    "# 각 사용자가 가장 최근에 평가한 5건의 영화를 평가용으로 사용하고 그 외는 학습용으로 사용\n",
    "# 먼저 각 사용자가 평가한 영화의 순서 계산\n",
    "# 직전에 평가한 영화부터 순서를 부여해 나감\n",
    "\n",
    "movielens['timestamp_rank'] = movielens.groupby('user_id')['timestamp'].rank(ascending=False, method='first')\n",
    "movielens_train = movielens[movielens['timestamp_rank'] > 5]\n",
    "movielens_test = movielens[movielens['timestamp_rank']<= 5]"
   ]
  },
  {
   "cell_type": "code",
   "execution_count": 21,
   "metadata": {},
   "outputs": [],
   "source": [
    "# RMSE(Root Mean Squared Error)\n",
    "from typing import List\n",
    "from sklearn.metrics import mean_squared_error\n",
    "def calc_rmse(self, true_rating: List[float],\n",
    "              pred_rating: List[float]) -> float:\n",
    "    return np.sqrt(mean_squared_error(true_rating, pred_rating))\n"
   ]
  },
  {
   "cell_type": "code",
   "execution_count": 22,
   "metadata": {},
   "outputs": [],
   "source": [
    "# 순위지표 Precision@K , Recall@K\n",
    "\n",
    "from typing import Dict\n",
    "\n",
    "# recall@K를 계산하는 함수\n",
    "def calc_recall_at_k(\n",
    "    true_user2items: Dict[int, List[int]],\n",
    "    pred_user2items: Dict[int, List[int]],\n",
    "    k: int\n",
    ") -> float:\n",
    "    scores = []\n",
    "    # 테스트 데이터에 존재하는 각 사용자의 recall@k를 계산\n",
    "    for user_id in true_user2items.keys():\n",
    "        # 각 유저의 실제 평가값과 예상 평가값, 그리고 k(예측 영화 개수)를 입력해 recall값을 구함\n",
    "        r_at_k = _recall_at_k(true_user2items[user_id],\n",
    "                              pred_user2items[user_id], k)\n",
    "        # 각 유저에 대한 recall값을 scores에 추가\n",
    "        scores.append(r_at_k)\n",
    "    return np.mean(scores)\n",
    "\n",
    "def _recall_at_k(self, true_items: List[int],\n",
    "                 pred_items: List[int], k: int) -> float:\n",
    "    if len(true_items) == 0 or k == 0:\n",
    "        return 0.0\n",
    "    \n",
    "    # 사용자 선호 영화 중 사용자가 추천받은 영화의 비율\n",
    "    r_at_k = (len(set(true_items) & set(pred_items[:k]))) / len(true_items)\n",
    "    return r_at_k\n",
    "\n",
    "def calc_precision_at_k(\n",
    "    true_user2items: Dict[int, List[int]],\n",
    "    pred_user2items: Dict[int, List[int]],\n",
    "    k: int\n",
    ") -> float:\n",
    "    scores = []\n",
    "    # 테스트 데이터에 존재하는 각 사용자의 precision@k를 계산\n",
    "    for user_id in true_user2items.keys():\n",
    "        p_at_k = _precision_at_k(true_user2items[user_id],\n",
    "                                 pred_user2items[user_id], k)\n",
    "        scores.append(p_at_k)\n",
    "    return np.mean(scores)\n",
    "\n",
    "def _precision_at_k(true_items: List[int],\n",
    "                    pred_items: List[int], k: int) -> float:\n",
    "    if k == 0:\n",
    "        return 0.0\n",
    "    p_at_k = (len(set(true_items) & set(pred_items[:k]))) / k\n",
    "    return p_at_k"
   ]
  },
  {
   "cell_type": "markdown",
   "metadata": {},
   "source": [
    "통일된 포맷 생성"
   ]
  },
  {
   "cell_type": "code",
   "execution_count": null,
   "metadata": {},
   "outputs": [],
   "source": [
    "# 데이터 로딩과 평가 지표 계산 공통 모듈 로딩\n",
    "from test_util.data_loader import DataLoader\n",
    "from test_util.metric_calculator import MetricCalculator\n",
    "\n",
    "# 1. MovieLens 데이터 로딩\n",
    "data_loader = DataLoader(num_users=1000, num_test_items=5,\n",
    "                         data_path='data/ml-10m/')\n",
    "movielens = data_loader.load()\n",
    "\n",
    "# 2. 각종 알고리즘 구현\n",
    "recommender = ()# XXXRecommender()\n",
    "recommend_result = recommender.recommend(movielens)\n",
    "\n",
    "# 3. 평가 지표 계산\n",
    "metric_calculator = MetricCalculator()\n",
    "metrics = metric_calculator.calc(\n",
    "    movielens.test.rating.tolist(), recommend_result.rating.tolist(),\n",
    "    movielens.test_user2items, recommend_result.user2items, k=10\n",
    ")\n",
    "print(metrics)"
   ]
  },
  {
   "cell_type": "markdown",
   "metadata": {},
   "source": [
    "각 파일 읽기와 학습용 데이터, 테스트용 데이터 분할 처리 등을 재사용하기 위해 DataLoader 클래스 내부에 정의한다.  \n",
    "참고는 util/data_loader.py"
   ]
  }
 ],
 "metadata": {
  "kernelspec": {
   "display_name": "rec_sys_2024",
   "language": "python",
   "name": "python3"
  },
  "language_info": {
   "codemirror_mode": {
    "name": "ipython",
    "version": 3
   },
   "file_extension": ".py",
   "mimetype": "text/x-python",
   "name": "python",
   "nbconvert_exporter": "python",
   "pygments_lexer": "ipython3",
   "version": "3.10.15"
  }
 },
 "nbformat": 4,
 "nbformat_minor": 2
}
