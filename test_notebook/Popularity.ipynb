{
 "cells": [
  {
   "cell_type": "markdown",
   "metadata": {},
   "source": [
    "## 5.4 통계 정보나 특정 규칙에 기반한 추천 \n",
    "**(임곗값 1, 100, 200에 대해 추천 후 평가)**"
   ]
  },
  {
   "cell_type": "code",
   "execution_count": 1,
   "metadata": {},
   "outputs": [],
   "source": [
    "import sys; sys.path.insert(0, '..')\n",
    "\n",
    "from test_util.data_loader import DataLoader\n",
    "from test_util.metric_calculator import MetricCalculator"
   ]
  },
  {
   "cell_type": "code",
   "execution_count": 2,
   "metadata": {},
   "outputs": [],
   "source": [
    "# Movielens 렌즈 데이터 로딩\n",
    "data_loader = DataLoader(num_users=1000, num_test_items=5, data_path='../data/ml-10m/')\n",
    "movielens = data_loader.load()"
   ]
  },
  {
   "cell_type": "code",
   "execution_count": null,
   "metadata": {},
   "outputs": [
    {
     "name": "stderr",
     "output_type": "stream",
     "text": [
      "C:\\Users\\eunjo\\AppData\\Local\\Temp\\ipykernel_26620\\3314688621.py:3: FutureWarning: The provided callable <function mean at 0x000001C88C6E7250> is currently using SeriesGroupBy.mean. In a future version of pandas, the provided callable will be used directly. To keep current behavior pass the string \"mean\" instead.\n",
      "  movie_stats = movielens.train.groupby(['movie_id', 'title']).agg({'rating': [np.size, np.mean]})\n"
     ]
    },
    {
     "data": {
      "text/html": [
       "<div>\n",
       "<style scoped>\n",
       "    .dataframe tbody tr th:only-of-type {\n",
       "        vertical-align: middle;\n",
       "    }\n",
       "\n",
       "    .dataframe tbody tr th {\n",
       "        vertical-align: top;\n",
       "    }\n",
       "\n",
       "    .dataframe thead tr th {\n",
       "        text-align: left;\n",
       "    }\n",
       "\n",
       "    .dataframe thead tr:last-of-type th {\n",
       "        text-align: right;\n",
       "    }\n",
       "</style>\n",
       "<table border=\"1\" class=\"dataframe\">\n",
       "  <thead>\n",
       "    <tr>\n",
       "      <th></th>\n",
       "      <th></th>\n",
       "      <th colspan=\"2\" halign=\"left\">rating</th>\n",
       "    </tr>\n",
       "    <tr>\n",
       "      <th></th>\n",
       "      <th></th>\n",
       "      <th>size</th>\n",
       "      <th>mean</th>\n",
       "    </tr>\n",
       "    <tr>\n",
       "      <th>movie_id</th>\n",
       "      <th>title</th>\n",
       "      <th></th>\n",
       "      <th></th>\n",
       "    </tr>\n",
       "  </thead>\n",
       "  <tbody>\n",
       "    <tr>\n",
       "      <th>59</th>\n",
       "      <th>Confessional, The (Confessionnal, Le) (1995)</th>\n",
       "      <td>1</td>\n",
       "      <td>5.0</td>\n",
       "    </tr>\n",
       "    <tr>\n",
       "      <th>7212</th>\n",
       "      <th>I Was a Male War Bride (1949)</th>\n",
       "      <td>1</td>\n",
       "      <td>5.0</td>\n",
       "    </tr>\n",
       "    <tr>\n",
       "      <th>4043</th>\n",
       "      <th>At Close Range (1986)</th>\n",
       "      <td>1</td>\n",
       "      <td>5.0</td>\n",
       "    </tr>\n",
       "    <tr>\n",
       "      <th>57243</th>\n",
       "      <th>Band's Visit, The (Bikur Ha-Tizmoret) (2007)</th>\n",
       "      <td>1</td>\n",
       "      <td>5.0</td>\n",
       "    </tr>\n",
       "    <tr>\n",
       "      <th>4197</th>\n",
       "      <th>Real Life (1979)</th>\n",
       "      <td>1</td>\n",
       "      <td>5.0</td>\n",
       "    </tr>\n",
       "  </tbody>\n",
       "</table>\n",
       "</div>"
      ],
      "text/plain": [
       "                                                      rating     \n",
       "                                                        size mean\n",
       "movie_id title                                                   \n",
       "59       Confessional, The (Confessionnal, Le) (1995)      1  5.0\n",
       "7212     I Was a Male War Bride (1949)                     1  5.0\n",
       "4043     At Close Range (1986)                             1  5.0\n",
       "57243    Band's Visit, The (Bikur Ha-Tizmoret) (2007)      1  5.0\n",
       "4197     Real Life (1979)                                  1  5.0"
      ]
     },
     "execution_count": 6,
     "metadata": {},
     "output_type": "execute_result"
    }
   ],
   "source": [
    "import numpy as np\n",
    "# 평갓값이 높은 영화 확인\n",
    "# rating은 size와 mean으로 상세 구분되어 있음\n",
    "movie_stats = movielens.train.groupby(['movie_id', 'title']).agg({'rating': [np.size, np.mean]})\n",
    "movie_stats.sort_values(by=('rating', 'mean'), ascending=False).head()"
   ]
  },
  {
   "cell_type": "code",
   "execution_count": 7,
   "metadata": {},
   "outputs": [
    {
     "name": "stderr",
     "output_type": "stream",
     "text": [
      "C:\\Users\\eunjo\\AppData\\Local\\Temp\\ipykernel_26620\\3809726384.py:1: FutureWarning: The provided callable <function mean at 0x000001C88C6E7250> is currently using SeriesGroupBy.mean. In a future version of pandas, the provided callable will be used directly. To keep current behavior pass the string \"mean\" instead.\n",
      "  movie_stats = movielens.train.groupby(['movie_id', 'title']).agg({'rating': [np.size, np.mean]})\n"
     ]
    },
    {
     "data": {
      "text/html": [
       "<div>\n",
       "<style scoped>\n",
       "    .dataframe tbody tr th:only-of-type {\n",
       "        vertical-align: middle;\n",
       "    }\n",
       "\n",
       "    .dataframe tbody tr th {\n",
       "        vertical-align: top;\n",
       "    }\n",
       "\n",
       "    .dataframe thead tr th {\n",
       "        text-align: left;\n",
       "    }\n",
       "\n",
       "    .dataframe thead tr:last-of-type th {\n",
       "        text-align: right;\n",
       "    }\n",
       "</style>\n",
       "<table border=\"1\" class=\"dataframe\">\n",
       "  <thead>\n",
       "    <tr>\n",
       "      <th></th>\n",
       "      <th></th>\n",
       "      <th colspan=\"2\" halign=\"left\">rating</th>\n",
       "    </tr>\n",
       "    <tr>\n",
       "      <th></th>\n",
       "      <th></th>\n",
       "      <th>size</th>\n",
       "      <th>mean</th>\n",
       "    </tr>\n",
       "    <tr>\n",
       "      <th>movie_id</th>\n",
       "      <th>title</th>\n",
       "      <th></th>\n",
       "      <th></th>\n",
       "    </tr>\n",
       "  </thead>\n",
       "  <tbody>\n",
       "    <tr>\n",
       "      <th>318</th>\n",
       "      <th>Shawshank Redemption, The (1994)</th>\n",
       "      <td>423</td>\n",
       "      <td>4.492908</td>\n",
       "    </tr>\n",
       "    <tr>\n",
       "      <th>50</th>\n",
       "      <th>Usual Suspects, The (1995)</th>\n",
       "      <td>332</td>\n",
       "      <td>4.459337</td>\n",
       "    </tr>\n",
       "    <tr>\n",
       "      <th>912</th>\n",
       "      <th>Casablanca (1942)</th>\n",
       "      <td>163</td>\n",
       "      <td>4.444785</td>\n",
       "    </tr>\n",
       "    <tr>\n",
       "      <th>904</th>\n",
       "      <th>Rear Window (1954)</th>\n",
       "      <td>129</td>\n",
       "      <td>4.441860</td>\n",
       "    </tr>\n",
       "    <tr>\n",
       "      <th>2019</th>\n",
       "      <th>Seven Samurai (Shichinin no samurai) (1954)</th>\n",
       "      <td>104</td>\n",
       "      <td>4.408654</td>\n",
       "    </tr>\n",
       "  </tbody>\n",
       "</table>\n",
       "</div>"
      ],
      "text/plain": [
       "                                                     rating          \n",
       "                                                       size      mean\n",
       "movie_id title                                                       \n",
       "318      Shawshank Redemption, The (1994)               423  4.492908\n",
       "50       Usual Suspects, The (1995)                     332  4.459337\n",
       "912      Casablanca (1942)                              163  4.444785\n",
       "904      Rear Window (1954)                             129  4.441860\n",
       "2019     Seven Samurai (Shichinin no samurai) (1954)    104  4.408654"
      ]
     },
     "execution_count": 7,
     "metadata": {},
     "output_type": "execute_result"
    }
   ],
   "source": [
    "movie_stats = movielens.train.groupby(['movie_id', 'title']).agg({'rating': [np.size, np.mean]})\n",
    "atleast_flg = movie_stats['rating']['size'] >= 100\n",
    "movies_sorted_by_rating = movie_stats[atleast_flg].sort_values(\n",
    "    by=('rating', 'mean'), ascending=False\n",
    ")\n",
    "movies_sorted_by_rating.head()"
   ]
  },
  {
   "cell_type": "code",
   "execution_count": 8,
   "metadata": {},
   "outputs": [
    {
     "name": "stderr",
     "output_type": "stream",
     "text": [
      "C:\\Users\\eunjo\\AppData\\Local\\Temp\\ipykernel_26620\\3848149044.py:1: FutureWarning: The provided callable <function mean at 0x000001C88C6E7250> is currently using SeriesGroupBy.mean. In a future version of pandas, the provided callable will be used directly. To keep current behavior pass the string \"mean\" instead.\n",
      "  movie_stats = movielens.train.groupby(['movie_id', 'title']).agg({'rating': [np.size, np.mean]})\n"
     ]
    },
    {
     "data": {
      "text/html": [
       "<div>\n",
       "<style scoped>\n",
       "    .dataframe tbody tr th:only-of-type {\n",
       "        vertical-align: middle;\n",
       "    }\n",
       "\n",
       "    .dataframe tbody tr th {\n",
       "        vertical-align: top;\n",
       "    }\n",
       "\n",
       "    .dataframe thead tr th {\n",
       "        text-align: left;\n",
       "    }\n",
       "\n",
       "    .dataframe thead tr:last-of-type th {\n",
       "        text-align: right;\n",
       "    }\n",
       "</style>\n",
       "<table border=\"1\" class=\"dataframe\">\n",
       "  <thead>\n",
       "    <tr>\n",
       "      <th></th>\n",
       "      <th></th>\n",
       "      <th colspan=\"2\" halign=\"left\">rating</th>\n",
       "    </tr>\n",
       "    <tr>\n",
       "      <th></th>\n",
       "      <th></th>\n",
       "      <th>size</th>\n",
       "      <th>mean</th>\n",
       "    </tr>\n",
       "    <tr>\n",
       "      <th>movie_id</th>\n",
       "      <th>title</th>\n",
       "      <th></th>\n",
       "      <th></th>\n",
       "    </tr>\n",
       "  </thead>\n",
       "  <tbody>\n",
       "    <tr>\n",
       "      <th>318</th>\n",
       "      <th>Shawshank Redemption, The (1994)</th>\n",
       "      <td>423</td>\n",
       "      <td>4.492908</td>\n",
       "    </tr>\n",
       "    <tr>\n",
       "      <th>50</th>\n",
       "      <th>Usual Suspects, The (1995)</th>\n",
       "      <td>332</td>\n",
       "      <td>4.459337</td>\n",
       "    </tr>\n",
       "    <tr>\n",
       "      <th>858</th>\n",
       "      <th>Godfather, The (1972)</th>\n",
       "      <td>287</td>\n",
       "      <td>4.395470</td>\n",
       "    </tr>\n",
       "    <tr>\n",
       "      <th>527</th>\n",
       "      <th>Schindler's List (1993)</th>\n",
       "      <td>358</td>\n",
       "      <td>4.381285</td>\n",
       "    </tr>\n",
       "    <tr>\n",
       "      <th>260</th>\n",
       "      <th>Star Wars: Episode IV - A New Hope (a.k.a. Star Wars) (1977)</th>\n",
       "      <td>430</td>\n",
       "      <td>4.355814</td>\n",
       "    </tr>\n",
       "  </tbody>\n",
       "</table>\n",
       "</div>"
      ],
      "text/plain": [
       "                                                            rating          \n",
       "                                                              size      mean\n",
       "movie_id title                                                              \n",
       "318      Shawshank Redemption, The (1994)                      423  4.492908\n",
       "50       Usual Suspects, The (1995)                            332  4.459337\n",
       "858      Godfather, The (1972)                                 287  4.395470\n",
       "527      Schindler's List (1993)                               358  4.381285\n",
       "260      Star Wars: Episode IV - A New Hope (a.k.a. Star...    430  4.355814"
      ]
     },
     "execution_count": 8,
     "metadata": {},
     "output_type": "execute_result"
    }
   ],
   "source": [
    "movie_stats = movielens.train.groupby(['movie_id', 'title']).agg({'rating': [np.size, np.mean]})\n",
    "atleast_flg = movie_stats['rating']['size'] >= 200\n",
    "movies_sorted_by_rating = movie_stats[atleast_flg].sort_values(\n",
    "    by=('rating', 'mean'), ascending=False\n",
    ")\n",
    "movies_sorted_by_rating.head()"
   ]
  },
  {
   "cell_type": "code",
   "execution_count": null,
   "metadata": {},
   "outputs": [
    {
     "name": "stderr",
     "output_type": "stream",
     "text": [
      "c:\\eunjoo\\Projects\\book_rec_sys_2024\\test_notebook\\..\\test_src\\popularity.py:15: FutureWarning: The provided callable <function mean at 0x000001C88C6E7250> is currently using SeriesGroupBy.mean. In a future version of pandas, the provided callable will be used directly. To keep current behavior pass the string \"mean\" instead.\n",
      "  movie_rating_average = dataset.train.groupby(\"movie_id\").agg({\"rating\": np.mean})\n",
      "c:\\eunjoo\\Projects\\book_rec_sys_2024\\test_notebook\\..\\test_src\\popularity.py:31: FutureWarning: The provided callable <function mean at 0x000001C88C6E7250> is currently using SeriesGroupBy.mean. In a future version of pandas, the provided callable will be used directly. To keep current behavior pass the string \"mean\" instead.\n",
      "  movie_stats = dataset.train.groupby(\"movie_id\").agg({\"rating\": [np.size, np.mean]})\n",
      "c:\\eunjoo\\Projects\\book_rec_sys_2024\\test_notebook\\..\\test_src\\popularity.py:15: FutureWarning: The provided callable <function mean at 0x000001C88C6E7250> is currently using SeriesGroupBy.mean. In a future version of pandas, the provided callable will be used directly. To keep current behavior pass the string \"mean\" instead.\n",
      "  movie_rating_average = dataset.train.groupby(\"movie_id\").agg({\"rating\": np.mean})\n"
     ]
    },
    {
     "name": "stdout",
     "output_type": "stream",
     "text": [
      "when minimum num is 1: rmse=1.089, Precision@K=0.000, Recall@K=0.000\n",
      "when minimum num is 100: rmse=1.089, Precision@K=0.008, Recall@K=0.025\n",
      "when minimum num is 200: rmse=1.089, Precision@K=0.013, Recall@K=0.040\n"
     ]
    },
    {
     "name": "stderr",
     "output_type": "stream",
     "text": [
      "c:\\eunjoo\\Projects\\book_rec_sys_2024\\test_notebook\\..\\test_src\\popularity.py:31: FutureWarning: The provided callable <function mean at 0x000001C88C6E7250> is currently using SeriesGroupBy.mean. In a future version of pandas, the provided callable will be used directly. To keep current behavior pass the string \"mean\" instead.\n",
      "  movie_stats = dataset.train.groupby(\"movie_id\").agg({\"rating\": [np.size, np.mean]})\n",
      "c:\\eunjoo\\Projects\\book_rec_sys_2024\\test_notebook\\..\\test_src\\popularity.py:15: FutureWarning: The provided callable <function mean at 0x000001C88C6E7250> is currently using SeriesGroupBy.mean. In a future version of pandas, the provided callable will be used directly. To keep current behavior pass the string \"mean\" instead.\n",
      "  movie_rating_average = dataset.train.groupby(\"movie_id\").agg({\"rating\": np.mean})\n",
      "c:\\eunjoo\\Projects\\book_rec_sys_2024\\test_notebook\\..\\test_src\\popularity.py:31: FutureWarning: The provided callable <function mean at 0x000001C88C6E7250> is currently using SeriesGroupBy.mean. In a future version of pandas, the provided callable will be used directly. To keep current behavior pass the string \"mean\" instead.\n",
      "  movie_stats = dataset.train.groupby(\"movie_id\").agg({\"rating\": [np.size, np.mean]})\n"
     ]
    }
   ],
   "source": [
    "# 통계적 추천\n",
    "from test_src.popularity import PopularityRecommender\n",
    "for i in [1, 100, 200]:\n",
    "    recommender = PopularityRecommender()\n",
    "    recommend_result = recommender.recommend(movielens, minimum_num_rating=i)\n",
    "    metric_calculator = MetricCalculator()\n",
    "    metrics = metric_calculator.calc(\n",
    "        movielens.test.rating.tolist(), recommend_result.rating.tolist(),\n",
    "        movielens.test_user2items, recommend_result.user2items,\n",
    "        k=10\n",
    "    )\n",
    "    print(f'when minimum num is {i}: {metrics}')\n",
    "    # future warning:\n",
    "    # import warnings\n",
    "    # warnings.simplefilter(action='ignore', cateegory=FutureWarning)"
   ]
  }
 ],
 "metadata": {
  "kernelspec": {
   "display_name": "rec_sys_2024",
   "language": "python",
   "name": "python3"
  },
  "language_info": {
   "codemirror_mode": {
    "name": "ipython",
    "version": 3
   },
   "file_extension": ".py",
   "mimetype": "text/x-python",
   "name": "python",
   "nbconvert_exporter": "python",
   "pygments_lexer": "ipython3",
   "version": "3.10.15"
  }
 },
 "nbformat": 4,
 "nbformat_minor": 2
}
